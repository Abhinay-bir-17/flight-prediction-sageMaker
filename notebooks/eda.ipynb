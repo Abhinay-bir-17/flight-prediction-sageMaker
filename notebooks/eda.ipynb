{
 "cells": [
  {
   "cell_type": "markdown",
   "id": "f43ede74",
   "metadata": {},
   "source": [
    "continue from 1:52:58 of session 3\n",
    "\n",
    "session 1 -> intro to aws sagemaker : https://www.youtube.com/watch?v=CnNo90dL6Lo&embeds_referring_euri=https%3A%2F%2Flearnwith.campusx.in%2F&\n",
    "embeds_referring_origin=https%3A%2F%2Flearnwith.campusx.in&source_ve_path=MzY4NDIsMjM4NTE\n",
    "\n",
    "session 2 -> github & data cleaning: https://www.youtube.com/watch?v=5L8TaXXGFsY\n",
    "\n",
    "session 3 -> eda : https://www.youtube.com/watch?v=odZCToOTvSQ&t=1s\n",
    "\n",
    "eda contd:  https://www.youtube.com/watch?v=aLYt0ShVANE&t=1s\n",
    "\n",
    "feature engineering: https://www.youtube.com/watch?v=5Yg58Rlu9po\n",
    "\n",
    "model training & deployment: https://www.youtube.com/watch?v=9sm7qHInUoA"
   ]
  },
  {
   "cell_type": "markdown",
   "id": "c2e34a36",
   "metadata": {},
   "source": [
    "### 1. Import Libraries"
   ]
  },
  {
   "cell_type": "code",
   "execution_count": 3,
   "id": "3f5bde6e",
   "metadata": {},
   "outputs": [],
   "source": [
    "import eda_helper_functions"
   ]
  },
  {
   "cell_type": "code",
   "execution_count": 4,
   "id": "269a5c53",
   "metadata": {},
   "outputs": [],
   "source": [
    "import os\n",
    "import pandas as pd  \n",
    "import seaborn as sns\n",
    "import matplotlib.pyplot as plt\n",
    "import numpy as np"
   ]
  },
  {
   "cell_type": "code",
   "execution_count": 5,
   "id": "bac84b12",
   "metadata": {},
   "outputs": [],
   "source": [
    "from sklearn.ensemble import IsolationForest"
   ]
  },
  {
   "cell_type": "markdown",
   "id": "6ae890bd",
   "metadata": {},
   "source": [
    "### 2. Read the training data"
   ]
  },
  {
   "cell_type": "code",
   "execution_count": 6,
   "id": "62a56f13",
   "metadata": {},
   "outputs": [],
   "source": [
    "file_path = r\"C:\\Users\\Abhinay\\Desktop\\flight-prediction-sageMaker\\data\\train.csv\"\n",
    "train = pd.read_csv(file_path)"
   ]
  },
  {
   "cell_type": "code",
   "execution_count": 7,
   "id": "641b9a1b",
   "metadata": {},
   "outputs": [
    {
     "data": {
      "text/plain": [
       "(640, 10)"
      ]
     },
     "execution_count": 7,
     "metadata": {},
     "output_type": "execute_result"
    }
   ],
   "source": [
    "train.shape"
   ]
  },
  {
   "cell_type": "code",
   "execution_count": 8,
   "id": "8e0526de",
   "metadata": {},
   "outputs": [
    {
     "data": {
      "text/html": [
       "<div>\n",
       "<style scoped>\n",
       "    .dataframe tbody tr th:only-of-type {\n",
       "        vertical-align: middle;\n",
       "    }\n",
       "\n",
       "    .dataframe tbody tr th {\n",
       "        vertical-align: top;\n",
       "    }\n",
       "\n",
       "    .dataframe thead th {\n",
       "        text-align: right;\n",
       "    }\n",
       "</style>\n",
       "<table border=\"1\" class=\"dataframe\">\n",
       "  <thead>\n",
       "    <tr style=\"text-align: right;\">\n",
       "      <th></th>\n",
       "      <th>airline</th>\n",
       "      <th>date_of_journey</th>\n",
       "      <th>source</th>\n",
       "      <th>destination</th>\n",
       "      <th>dep_time</th>\n",
       "      <th>arrival_time</th>\n",
       "      <th>duration</th>\n",
       "      <th>total_stops</th>\n",
       "      <th>additional_info</th>\n",
       "      <th>price</th>\n",
       "    </tr>\n",
       "  </thead>\n",
       "  <tbody>\n",
       "    <tr>\n",
       "      <th>0</th>\n",
       "      <td>Air India</td>\n",
       "      <td>2019-04-09</td>\n",
       "      <td>Delhi</td>\n",
       "      <td>Cochin</td>\n",
       "      <td>05:55:00</td>\n",
       "      <td>19:15:00</td>\n",
       "      <td>2240</td>\n",
       "      <td>2</td>\n",
       "      <td>No info</td>\n",
       "      <td>7711</td>\n",
       "    </tr>\n",
       "    <tr>\n",
       "      <th>1</th>\n",
       "      <td>Air India</td>\n",
       "      <td>2019-06-03</td>\n",
       "      <td>Delhi</td>\n",
       "      <td>Cochin</td>\n",
       "      <td>07:10:00</td>\n",
       "      <td>07:40:00</td>\n",
       "      <td>1470</td>\n",
       "      <td>2</td>\n",
       "      <td>No info</td>\n",
       "      <td>12698</td>\n",
       "    </tr>\n",
       "    <tr>\n",
       "      <th>2</th>\n",
       "      <td>Air India</td>\n",
       "      <td>2019-05-15</td>\n",
       "      <td>Kolkata</td>\n",
       "      <td>Banglore</td>\n",
       "      <td>16:45:00</td>\n",
       "      <td>21:05:00</td>\n",
       "      <td>1700</td>\n",
       "      <td>1</td>\n",
       "      <td>No info</td>\n",
       "      <td>7452</td>\n",
       "    </tr>\n",
       "    <tr>\n",
       "      <th>3</th>\n",
       "      <td>Vistara</td>\n",
       "      <td>2019-06-15</td>\n",
       "      <td>Chennai</td>\n",
       "      <td>Kolkata</td>\n",
       "      <td>07:05:00</td>\n",
       "      <td>09:20:00</td>\n",
       "      <td>135</td>\n",
       "      <td>0</td>\n",
       "      <td>No info</td>\n",
       "      <td>3687</td>\n",
       "    </tr>\n",
       "    <tr>\n",
       "      <th>4</th>\n",
       "      <td>Jet Airways</td>\n",
       "      <td>2019-04-09</td>\n",
       "      <td>Delhi</td>\n",
       "      <td>Cochin</td>\n",
       "      <td>23:05:00</td>\n",
       "      <td>19:00:00</td>\n",
       "      <td>1195</td>\n",
       "      <td>2</td>\n",
       "      <td>No info</td>\n",
       "      <td>9483</td>\n",
       "    </tr>\n",
       "  </tbody>\n",
       "</table>\n",
       "</div>"
      ],
      "text/plain": [
       "       airline date_of_journey   source destination  dep_time arrival_time  \\\n",
       "0    Air India      2019-04-09    Delhi      Cochin  05:55:00     19:15:00   \n",
       "1    Air India      2019-06-03    Delhi      Cochin  07:10:00     07:40:00   \n",
       "2    Air India      2019-05-15  Kolkata    Banglore  16:45:00     21:05:00   \n",
       "3      Vistara      2019-06-15  Chennai     Kolkata  07:05:00     09:20:00   \n",
       "4  Jet Airways      2019-04-09    Delhi      Cochin  23:05:00     19:00:00   \n",
       "\n",
       "   duration  total_stops additional_info  price  \n",
       "0      2240            2         No info   7711  \n",
       "1      1470            2         No info  12698  \n",
       "2      1700            1         No info   7452  \n",
       "3       135            0         No info   3687  \n",
       "4      1195            2         No info   9483  "
      ]
     },
     "execution_count": 8,
     "metadata": {},
     "output_type": "execute_result"
    }
   ],
   "source": [
    "train.head()"
   ]
  },
  {
   "cell_type": "code",
   "execution_count": 9,
   "id": "0457e3df",
   "metadata": {},
   "outputs": [
    {
     "data": {
      "text/plain": [
       "airline            object\n",
       "date_of_journey    object\n",
       "source             object\n",
       "destination        object\n",
       "dep_time           object\n",
       "arrival_time       object\n",
       "duration            int64\n",
       "total_stops         int64\n",
       "additional_info    object\n",
       "price               int64\n",
       "dtype: object"
      ]
     },
     "execution_count": 9,
     "metadata": {},
     "output_type": "execute_result"
    }
   ],
   "source": [
    "train.dtypes"
   ]
  },
  {
   "cell_type": "markdown",
   "id": "28ca2064",
   "metadata": {},
   "source": [
    "now change the dtypes of 'date_of_journey', 'dep_time', 'arrival_time' "
   ]
  },
  {
   "cell_type": "code",
   "execution_count": 10,
   "id": "dbba4d1c",
   "metadata": {},
   "outputs": [
    {
     "data": {
      "text/plain": [
       "0      2019-04-09\n",
       "1      2019-06-03\n",
       "2      2019-05-15\n",
       "3      2019-06-15\n",
       "4      2019-04-09\n",
       "          ...    \n",
       "635    2019-03-06\n",
       "636    2019-04-21\n",
       "637    2019-06-09\n",
       "638    2019-05-18\n",
       "639    2019-03-24\n",
       "Name: date_of_journey, Length: 640, dtype: object"
      ]
     },
     "execution_count": 10,
     "metadata": {},
     "output_type": "execute_result"
    }
   ],
   "source": [
    "train.date_of_journey"
   ]
  },
  {
   "cell_type": "code",
   "execution_count": 11,
   "id": "8630cc64",
   "metadata": {},
   "outputs": [
    {
     "data": {
      "text/html": [
       "<div>\n",
       "<style scoped>\n",
       "    .dataframe tbody tr th:only-of-type {\n",
       "        vertical-align: middle;\n",
       "    }\n",
       "\n",
       "    .dataframe tbody tr th {\n",
       "        vertical-align: top;\n",
       "    }\n",
       "\n",
       "    .dataframe thead th {\n",
       "        text-align: right;\n",
       "    }\n",
       "</style>\n",
       "<table border=\"1\" class=\"dataframe\">\n",
       "  <thead>\n",
       "    <tr style=\"text-align: right;\">\n",
       "      <th></th>\n",
       "      <th>airline</th>\n",
       "      <th>date_of_journey</th>\n",
       "      <th>source</th>\n",
       "      <th>destination</th>\n",
       "      <th>dep_time</th>\n",
       "      <th>arrival_time</th>\n",
       "      <th>duration</th>\n",
       "      <th>total_stops</th>\n",
       "      <th>additional_info</th>\n",
       "      <th>price</th>\n",
       "    </tr>\n",
       "  </thead>\n",
       "  <tbody>\n",
       "  </tbody>\n",
       "</table>\n",
       "</div>"
      ],
      "text/plain": [
       "Empty DataFrame\n",
       "Columns: [airline, date_of_journey, source, destination, dep_time, arrival_time, duration, total_stops, additional_info, price]\n",
       "Index: []"
      ]
     },
     "execution_count": 11,
     "metadata": {},
     "output_type": "execute_result"
    }
   ],
   "source": [
    "# Keep only those that do NOT match YYYY-MM-DD\n",
    "train[~train['date_of_journey'].str.match(r'^\\d{4}-\\d{2}-\\d{2}$')]\n",
    "\n"
   ]
  },
  {
   "cell_type": "code",
   "execution_count": 12,
   "id": "7ef4e6a7",
   "metadata": {},
   "outputs": [
    {
     "data": {
      "text/plain": [
       "0      05:55:00\n",
       "1      07:10:00\n",
       "2      16:45:00\n",
       "3      07:05:00\n",
       "4      23:05:00\n",
       "         ...   \n",
       "635    11:30:00\n",
       "636    02:00:00\n",
       "637    22:15:00\n",
       "638    14:20:00\n",
       "639    13:55:00\n",
       "Name: dep_time, Length: 640, dtype: object"
      ]
     },
     "execution_count": 12,
     "metadata": {},
     "output_type": "execute_result"
    }
   ],
   "source": [
    "train.dep_time"
   ]
  },
  {
   "cell_type": "code",
   "execution_count": 13,
   "id": "c4358604",
   "metadata": {},
   "outputs": [
    {
     "name": "stdout",
     "output_type": "stream",
     "text": [
      "Invalid arrival_time entries:\n",
      "Empty DataFrame\n",
      "Columns: [arrival_time]\n",
      "Index: []\n"
     ]
    }
   ],
   "source": [
    "# This will return True for rows where format is exactly HH:MM:SS\n",
    "valid_time_format = train['arrival_time'].astype(str).str.match(r'^\\d{2}:\\d{2}:\\d{2}$')\n",
    "\n",
    "# Show rows with invalid time format\n",
    "invalid_times = train[~valid_time_format]\n",
    "\n",
    "print(f\"Invalid arrival_time entries:\\n{invalid_times[['arrival_time']]}\")\n"
   ]
  },
  {
   "cell_type": "code",
   "execution_count": 15,
   "id": "0dc315a4",
   "metadata": {},
   "outputs": [],
   "source": [
    "# train = train.assign(**{\n",
    "# \tcol: pd.to_datetime(train.loc[:, col])\n",
    "# \tfor col in [\"date_of_journey\", \"dep_time\", \"arrival_time\"]\n",
    "# })\n",
    "\n",
    "train = train.assign(\n",
    "    date_of_journey=pd.to_datetime(train[\"date_of_journey\"]),\n",
    "    dep_time=pd.to_datetime(train[\"dep_time\"], format=\"%H:%M:%S\", errors=\"coerce\").dt.time,\n",
    "    arrival_time=pd.to_datetime(train[\"arrival_time\"], format=\"%H:%M:%S\", errors=\"coerce\").dt.time\n",
    ")\n"
   ]
  },
  {
   "cell_type": "code",
   "execution_count": 16,
   "id": "e9bdfd84",
   "metadata": {},
   "outputs": [
    {
     "data": {
      "text/plain": [
       "airline                    object\n",
       "date_of_journey    datetime64[ns]\n",
       "source                     object\n",
       "destination                object\n",
       "dep_time                   object\n",
       "arrival_time               object\n",
       "duration                    int64\n",
       "total_stops                 int64\n",
       "additional_info            object\n",
       "price                       int64\n",
       "dtype: object"
      ]
     },
     "execution_count": 16,
     "metadata": {},
     "output_type": "execute_result"
    }
   ],
   "source": [
    "train.dtypes"
   ]
  },
  {
   "cell_type": "code",
   "execution_count": 17,
   "id": "0fa43193",
   "metadata": {},
   "outputs": [
    {
     "data": {
      "text/html": [
       "<div>\n",
       "<style scoped>\n",
       "    .dataframe tbody tr th:only-of-type {\n",
       "        vertical-align: middle;\n",
       "    }\n",
       "\n",
       "    .dataframe tbody tr th {\n",
       "        vertical-align: top;\n",
       "    }\n",
       "\n",
       "    .dataframe thead th {\n",
       "        text-align: right;\n",
       "    }\n",
       "</style>\n",
       "<table border=\"1\" class=\"dataframe\">\n",
       "  <thead>\n",
       "    <tr style=\"text-align: right;\">\n",
       "      <th></th>\n",
       "      <th>airline</th>\n",
       "      <th>date_of_journey</th>\n",
       "      <th>source</th>\n",
       "      <th>destination</th>\n",
       "      <th>dep_time</th>\n",
       "      <th>arrival_time</th>\n",
       "      <th>duration</th>\n",
       "      <th>total_stops</th>\n",
       "      <th>additional_info</th>\n",
       "      <th>price</th>\n",
       "    </tr>\n",
       "  </thead>\n",
       "  <tbody>\n",
       "    <tr>\n",
       "      <th>0</th>\n",
       "      <td>Air India</td>\n",
       "      <td>2019-04-09</td>\n",
       "      <td>Delhi</td>\n",
       "      <td>Cochin</td>\n",
       "      <td>05:55:00</td>\n",
       "      <td>19:15:00</td>\n",
       "      <td>2240</td>\n",
       "      <td>2</td>\n",
       "      <td>No info</td>\n",
       "      <td>7711</td>\n",
       "    </tr>\n",
       "    <tr>\n",
       "      <th>1</th>\n",
       "      <td>Air India</td>\n",
       "      <td>2019-06-03</td>\n",
       "      <td>Delhi</td>\n",
       "      <td>Cochin</td>\n",
       "      <td>07:10:00</td>\n",
       "      <td>07:40:00</td>\n",
       "      <td>1470</td>\n",
       "      <td>2</td>\n",
       "      <td>No info</td>\n",
       "      <td>12698</td>\n",
       "    </tr>\n",
       "    <tr>\n",
       "      <th>2</th>\n",
       "      <td>Air India</td>\n",
       "      <td>2019-05-15</td>\n",
       "      <td>Kolkata</td>\n",
       "      <td>Banglore</td>\n",
       "      <td>16:45:00</td>\n",
       "      <td>21:05:00</td>\n",
       "      <td>1700</td>\n",
       "      <td>1</td>\n",
       "      <td>No info</td>\n",
       "      <td>7452</td>\n",
       "    </tr>\n",
       "    <tr>\n",
       "      <th>3</th>\n",
       "      <td>Vistara</td>\n",
       "      <td>2019-06-15</td>\n",
       "      <td>Chennai</td>\n",
       "      <td>Kolkata</td>\n",
       "      <td>07:05:00</td>\n",
       "      <td>09:20:00</td>\n",
       "      <td>135</td>\n",
       "      <td>0</td>\n",
       "      <td>No info</td>\n",
       "      <td>3687</td>\n",
       "    </tr>\n",
       "    <tr>\n",
       "      <th>4</th>\n",
       "      <td>Jet Airways</td>\n",
       "      <td>2019-04-09</td>\n",
       "      <td>Delhi</td>\n",
       "      <td>Cochin</td>\n",
       "      <td>23:05:00</td>\n",
       "      <td>19:00:00</td>\n",
       "      <td>1195</td>\n",
       "      <td>2</td>\n",
       "      <td>No info</td>\n",
       "      <td>9483</td>\n",
       "    </tr>\n",
       "  </tbody>\n",
       "</table>\n",
       "</div>"
      ],
      "text/plain": [
       "       airline date_of_journey   source destination  dep_time arrival_time  \\\n",
       "0    Air India      2019-04-09    Delhi      Cochin  05:55:00     19:15:00   \n",
       "1    Air India      2019-06-03    Delhi      Cochin  07:10:00     07:40:00   \n",
       "2    Air India      2019-05-15  Kolkata    Banglore  16:45:00     21:05:00   \n",
       "3      Vistara      2019-06-15  Chennai     Kolkata  07:05:00     09:20:00   \n",
       "4  Jet Airways      2019-04-09    Delhi      Cochin  23:05:00     19:00:00   \n",
       "\n",
       "   duration  total_stops additional_info  price  \n",
       "0      2240            2         No info   7711  \n",
       "1      1470            2         No info  12698  \n",
       "2      1700            1         No info   7452  \n",
       "3       135            0         No info   3687  \n",
       "4      1195            2         No info   9483  "
      ]
     },
     "execution_count": 17,
     "metadata": {},
     "output_type": "execute_result"
    }
   ],
   "source": [
    "train.head(n=5)"
   ]
  },
  {
   "cell_type": "code",
   "execution_count": 28,
   "id": "e1461dd0",
   "metadata": {},
   "outputs": [
    {
     "data": {
      "text/plain": [
       "array([<class 'datetime.time'>], dtype=object)"
      ]
     },
     "execution_count": 28,
     "metadata": {},
     "output_type": "execute_result"
    }
   ],
   "source": [
    "train['dep_time'].apply(type).unique()\n"
   ]
  },
  {
   "cell_type": "markdown",
   "id": "1548a330",
   "metadata": {},
   "source": [
    "### 3. High-level Summary of Data"
   ]
  },
  {
   "cell_type": "code",
   "execution_count": 19,
   "id": "1c0660ec",
   "metadata": {},
   "outputs": [
    {
     "name": "stdout",
     "output_type": "stream",
     "text": [
      "<class 'pandas.core.frame.DataFrame'>\n",
      "RangeIndex: 640 entries, 0 to 639\n",
      "Data columns (total 10 columns):\n",
      " #   Column           Non-Null Count  Dtype         \n",
      "---  ------           --------------  -----         \n",
      " 0   airline          640 non-null    object        \n",
      " 1   date_of_journey  640 non-null    datetime64[ns]\n",
      " 2   source           640 non-null    object        \n",
      " 3   destination      640 non-null    object        \n",
      " 4   dep_time         640 non-null    object        \n",
      " 5   arrival_time     640 non-null    object        \n",
      " 6   duration         640 non-null    int64         \n",
      " 7   total_stops      640 non-null    int64         \n",
      " 8   additional_info  640 non-null    object        \n",
      " 9   price            640 non-null    int64         \n",
      "dtypes: datetime64[ns](1), int64(3), object(6)\n",
      "memory usage: 50.1+ KB\n"
     ]
    }
   ],
   "source": [
    "train.info()"
   ]
  },
  {
   "cell_type": "code",
   "execution_count": 20,
   "id": "ea150e90",
   "metadata": {},
   "outputs": [
    {
     "data": {
      "text/html": [
       "<div>\n",
       "<style scoped>\n",
       "    .dataframe tbody tr th:only-of-type {\n",
       "        vertical-align: middle;\n",
       "    }\n",
       "\n",
       "    .dataframe tbody tr th {\n",
       "        vertical-align: top;\n",
       "    }\n",
       "\n",
       "    .dataframe thead th {\n",
       "        text-align: right;\n",
       "    }\n",
       "</style>\n",
       "<table border=\"1\" class=\"dataframe\">\n",
       "  <thead>\n",
       "    <tr style=\"text-align: right;\">\n",
       "      <th></th>\n",
       "      <th>duration</th>\n",
       "      <th>total_stops</th>\n",
       "      <th>price</th>\n",
       "    </tr>\n",
       "  </thead>\n",
       "  <tbody>\n",
       "    <tr>\n",
       "      <th>count</th>\n",
       "      <td>640.000000</td>\n",
       "      <td>640.000000</td>\n",
       "      <td>640.000000</td>\n",
       "    </tr>\n",
       "    <tr>\n",
       "      <th>mean</th>\n",
       "      <td>626.640625</td>\n",
       "      <td>0.804688</td>\n",
       "      <td>9069.054688</td>\n",
       "    </tr>\n",
       "    <tr>\n",
       "      <th>std</th>\n",
       "      <td>490.248615</td>\n",
       "      <td>0.641040</td>\n",
       "      <td>4659.946820</td>\n",
       "    </tr>\n",
       "    <tr>\n",
       "      <th>min</th>\n",
       "      <td>80.000000</td>\n",
       "      <td>0.000000</td>\n",
       "      <td>1759.000000</td>\n",
       "    </tr>\n",
       "    <tr>\n",
       "      <th>25%</th>\n",
       "      <td>170.000000</td>\n",
       "      <td>0.000000</td>\n",
       "      <td>5483.250000</td>\n",
       "    </tr>\n",
       "    <tr>\n",
       "      <th>50%</th>\n",
       "      <td>507.500000</td>\n",
       "      <td>1.000000</td>\n",
       "      <td>8206.000000</td>\n",
       "    </tr>\n",
       "    <tr>\n",
       "      <th>75%</th>\n",
       "      <td>906.250000</td>\n",
       "      <td>1.000000</td>\n",
       "      <td>12263.750000</td>\n",
       "    </tr>\n",
       "    <tr>\n",
       "      <th>max</th>\n",
       "      <td>2245.000000</td>\n",
       "      <td>2.000000</td>\n",
       "      <td>46490.000000</td>\n",
       "    </tr>\n",
       "  </tbody>\n",
       "</table>\n",
       "</div>"
      ],
      "text/plain": [
       "          duration  total_stops         price\n",
       "count   640.000000   640.000000    640.000000\n",
       "mean    626.640625     0.804688   9069.054688\n",
       "std     490.248615     0.641040   4659.946820\n",
       "min      80.000000     0.000000   1759.000000\n",
       "25%     170.000000     0.000000   5483.250000\n",
       "50%     507.500000     1.000000   8206.000000\n",
       "75%     906.250000     1.000000  12263.750000\n",
       "max    2245.000000     2.000000  46490.000000"
      ]
     },
     "execution_count": 20,
     "metadata": {},
     "output_type": "execute_result"
    }
   ],
   "source": [
    "train.describe(include=\"number\")"
   ]
  },
  {
   "cell_type": "code",
   "execution_count": 21,
   "id": "7441cf08",
   "metadata": {},
   "outputs": [
    {
     "data": {
      "text/html": [
       "<div>\n",
       "<style scoped>\n",
       "    .dataframe tbody tr th:only-of-type {\n",
       "        vertical-align: middle;\n",
       "    }\n",
       "\n",
       "    .dataframe tbody tr th {\n",
       "        vertical-align: top;\n",
       "    }\n",
       "\n",
       "    .dataframe thead th {\n",
       "        text-align: right;\n",
       "    }\n",
       "</style>\n",
       "<table border=\"1\" class=\"dataframe\">\n",
       "  <thead>\n",
       "    <tr style=\"text-align: right;\">\n",
       "      <th></th>\n",
       "      <th>airline</th>\n",
       "      <th>source</th>\n",
       "      <th>destination</th>\n",
       "      <th>dep_time</th>\n",
       "      <th>arrival_time</th>\n",
       "      <th>additional_info</th>\n",
       "    </tr>\n",
       "  </thead>\n",
       "  <tbody>\n",
       "    <tr>\n",
       "      <th>count</th>\n",
       "      <td>640</td>\n",
       "      <td>640</td>\n",
       "      <td>640</td>\n",
       "      <td>640</td>\n",
       "      <td>640</td>\n",
       "      <td>640</td>\n",
       "    </tr>\n",
       "    <tr>\n",
       "      <th>unique</th>\n",
       "      <td>8</td>\n",
       "      <td>5</td>\n",
       "      <td>5</td>\n",
       "      <td>159</td>\n",
       "      <td>166</td>\n",
       "      <td>4</td>\n",
       "    </tr>\n",
       "    <tr>\n",
       "      <th>top</th>\n",
       "      <td>Jet Airways</td>\n",
       "      <td>Delhi</td>\n",
       "      <td>Cochin</td>\n",
       "      <td>17:00:00</td>\n",
       "      <td>04:25:00</td>\n",
       "      <td>No info</td>\n",
       "    </tr>\n",
       "    <tr>\n",
       "      <th>freq</th>\n",
       "      <td>214</td>\n",
       "      <td>264</td>\n",
       "      <td>264</td>\n",
       "      <td>17</td>\n",
       "      <td>35</td>\n",
       "      <td>519</td>\n",
       "    </tr>\n",
       "  </tbody>\n",
       "</table>\n",
       "</div>"
      ],
      "text/plain": [
       "            airline source destination  dep_time arrival_time additional_info\n",
       "count           640    640         640       640          640             640\n",
       "unique            8      5           5       159          166               4\n",
       "top     Jet Airways  Delhi      Cochin  17:00:00     04:25:00         No info\n",
       "freq            214    264         264        17           35             519"
      ]
     },
     "execution_count": 21,
     "metadata": {},
     "output_type": "execute_result"
    }
   ],
   "source": [
    "train.describe(include=\"O\")"
   ]
  },
  {
   "cell_type": "markdown",
   "id": "5f49fd09",
   "metadata": {},
   "source": [
    "we want to make total_stops as categorical than numerical"
   ]
  },
  {
   "cell_type": "code",
   "execution_count": 22,
   "id": "d25907d3",
   "metadata": {},
   "outputs": [
    {
     "data": {
      "text/html": [
       "<div>\n",
       "<style scoped>\n",
       "    .dataframe tbody tr th:only-of-type {\n",
       "        vertical-align: middle;\n",
       "    }\n",
       "\n",
       "    .dataframe tbody tr th {\n",
       "        vertical-align: top;\n",
       "    }\n",
       "\n",
       "    .dataframe thead th {\n",
       "        text-align: right;\n",
       "    }\n",
       "</style>\n",
       "<table border=\"1\" class=\"dataframe\">\n",
       "  <thead>\n",
       "    <tr style=\"text-align: right;\">\n",
       "      <th></th>\n",
       "      <th>airline</th>\n",
       "      <th>source</th>\n",
       "      <th>destination</th>\n",
       "      <th>dep_time</th>\n",
       "      <th>arrival_time</th>\n",
       "      <th>total_stops</th>\n",
       "      <th>additional_info</th>\n",
       "    </tr>\n",
       "  </thead>\n",
       "  <tbody>\n",
       "    <tr>\n",
       "      <th>count</th>\n",
       "      <td>640</td>\n",
       "      <td>640</td>\n",
       "      <td>640</td>\n",
       "      <td>640</td>\n",
       "      <td>640</td>\n",
       "      <td>640</td>\n",
       "      <td>640</td>\n",
       "    </tr>\n",
       "    <tr>\n",
       "      <th>unique</th>\n",
       "      <td>8</td>\n",
       "      <td>5</td>\n",
       "      <td>5</td>\n",
       "      <td>159</td>\n",
       "      <td>166</td>\n",
       "      <td>3</td>\n",
       "      <td>4</td>\n",
       "    </tr>\n",
       "    <tr>\n",
       "      <th>top</th>\n",
       "      <td>Jet Airways</td>\n",
       "      <td>Delhi</td>\n",
       "      <td>Cochin</td>\n",
       "      <td>17:00:00</td>\n",
       "      <td>04:25:00</td>\n",
       "      <td>1</td>\n",
       "      <td>No info</td>\n",
       "    </tr>\n",
       "    <tr>\n",
       "      <th>freq</th>\n",
       "      <td>214</td>\n",
       "      <td>264</td>\n",
       "      <td>264</td>\n",
       "      <td>17</td>\n",
       "      <td>35</td>\n",
       "      <td>353</td>\n",
       "      <td>519</td>\n",
       "    </tr>\n",
       "  </tbody>\n",
       "</table>\n",
       "</div>"
      ],
      "text/plain": [
       "            airline source destination  dep_time arrival_time  total_stops  \\\n",
       "count           640    640         640       640          640          640   \n",
       "unique            8      5           5       159          166            3   \n",
       "top     Jet Airways  Delhi      Cochin  17:00:00     04:25:00            1   \n",
       "freq            214    264         264        17           35          353   \n",
       "\n",
       "       additional_info  \n",
       "count              640  \n",
       "unique               4  \n",
       "top            No info  \n",
       "freq               519  "
      ]
     },
     "execution_count": 22,
     "metadata": {},
     "output_type": "execute_result"
    }
   ],
   "source": [
    "(\n",
    "  train\n",
    "  .assign(total_stops=train[\"total_stops\"].astype(object))\n",
    "  .describe(include=\"O\")\n",
    ")"
   ]
  },
  {
   "cell_type": "code",
   "execution_count": 23,
   "id": "de028fbf",
   "metadata": {},
   "outputs": [
    {
     "data": {
      "text/plain": [
       "airline                    object\n",
       "date_of_journey    datetime64[ns]\n",
       "source                     object\n",
       "destination                object\n",
       "dep_time                   object\n",
       "arrival_time               object\n",
       "duration                    int64\n",
       "total_stops                 int64\n",
       "additional_info            object\n",
       "price                       int64\n",
       "dtype: object"
      ]
     },
     "execution_count": 23,
     "metadata": {},
     "output_type": "execute_result"
    }
   ],
   "source": [
    "train.dtypes"
   ]
  },
  {
   "cell_type": "markdown",
   "id": "5a09cafb",
   "metadata": {},
   "source": [
    "### 4. High level analysis of missing values in our dataset\n",
    "  "
   ]
  },
  {
   "cell_type": "markdown",
   "id": "f6d3fb63",
   "metadata": {},
   "source": [
    "#### missing values"
   ]
  },
  {
   "cell_type": "code",
   "execution_count": 24,
   "id": "1ddf2bee",
   "metadata": {},
   "outputs": [
    {
     "data": {
      "text/html": [
       "<div>\n",
       "<style scoped>\n",
       "    .dataframe tbody tr th:only-of-type {\n",
       "        vertical-align: middle;\n",
       "    }\n",
       "\n",
       "    .dataframe tbody tr th {\n",
       "        vertical-align: top;\n",
       "    }\n",
       "\n",
       "    .dataframe thead th {\n",
       "        text-align: right;\n",
       "    }\n",
       "</style>\n",
       "<table border=\"1\" class=\"dataframe\">\n",
       "  <thead>\n",
       "    <tr style=\"text-align: right;\">\n",
       "      <th></th>\n",
       "      <th>survived</th>\n",
       "      <th>pclass</th>\n",
       "      <th>sex</th>\n",
       "      <th>age</th>\n",
       "      <th>sibsp</th>\n",
       "      <th>parch</th>\n",
       "      <th>fare</th>\n",
       "      <th>embarked</th>\n",
       "      <th>class</th>\n",
       "      <th>who</th>\n",
       "      <th>adult_male</th>\n",
       "      <th>deck</th>\n",
       "      <th>embark_town</th>\n",
       "      <th>alive</th>\n",
       "      <th>alone</th>\n",
       "    </tr>\n",
       "  </thead>\n",
       "  <tbody>\n",
       "    <tr>\n",
       "      <th>0</th>\n",
       "      <td>0</td>\n",
       "      <td>3</td>\n",
       "      <td>male</td>\n",
       "      <td>22.0</td>\n",
       "      <td>1</td>\n",
       "      <td>0</td>\n",
       "      <td>7.2500</td>\n",
       "      <td>S</td>\n",
       "      <td>Third</td>\n",
       "      <td>man</td>\n",
       "      <td>True</td>\n",
       "      <td>NaN</td>\n",
       "      <td>Southampton</td>\n",
       "      <td>no</td>\n",
       "      <td>False</td>\n",
       "    </tr>\n",
       "    <tr>\n",
       "      <th>1</th>\n",
       "      <td>1</td>\n",
       "      <td>1</td>\n",
       "      <td>female</td>\n",
       "      <td>38.0</td>\n",
       "      <td>1</td>\n",
       "      <td>0</td>\n",
       "      <td>71.2833</td>\n",
       "      <td>C</td>\n",
       "      <td>First</td>\n",
       "      <td>woman</td>\n",
       "      <td>False</td>\n",
       "      <td>C</td>\n",
       "      <td>Cherbourg</td>\n",
       "      <td>yes</td>\n",
       "      <td>False</td>\n",
       "    </tr>\n",
       "    <tr>\n",
       "      <th>2</th>\n",
       "      <td>1</td>\n",
       "      <td>3</td>\n",
       "      <td>female</td>\n",
       "      <td>26.0</td>\n",
       "      <td>0</td>\n",
       "      <td>0</td>\n",
       "      <td>7.9250</td>\n",
       "      <td>S</td>\n",
       "      <td>Third</td>\n",
       "      <td>woman</td>\n",
       "      <td>False</td>\n",
       "      <td>NaN</td>\n",
       "      <td>Southampton</td>\n",
       "      <td>yes</td>\n",
       "      <td>True</td>\n",
       "    </tr>\n",
       "    <tr>\n",
       "      <th>3</th>\n",
       "      <td>1</td>\n",
       "      <td>1</td>\n",
       "      <td>female</td>\n",
       "      <td>35.0</td>\n",
       "      <td>1</td>\n",
       "      <td>0</td>\n",
       "      <td>53.1000</td>\n",
       "      <td>S</td>\n",
       "      <td>First</td>\n",
       "      <td>woman</td>\n",
       "      <td>False</td>\n",
       "      <td>C</td>\n",
       "      <td>Southampton</td>\n",
       "      <td>yes</td>\n",
       "      <td>False</td>\n",
       "    </tr>\n",
       "    <tr>\n",
       "      <th>4</th>\n",
       "      <td>0</td>\n",
       "      <td>3</td>\n",
       "      <td>male</td>\n",
       "      <td>35.0</td>\n",
       "      <td>0</td>\n",
       "      <td>0</td>\n",
       "      <td>8.0500</td>\n",
       "      <td>S</td>\n",
       "      <td>Third</td>\n",
       "      <td>man</td>\n",
       "      <td>True</td>\n",
       "      <td>NaN</td>\n",
       "      <td>Southampton</td>\n",
       "      <td>no</td>\n",
       "      <td>True</td>\n",
       "    </tr>\n",
       "  </tbody>\n",
       "</table>\n",
       "</div>"
      ],
      "text/plain": [
       "   survived  pclass     sex   age  sibsp  parch     fare embarked  class  \\\n",
       "0         0       3    male  22.0      1      0   7.2500        S  Third   \n",
       "1         1       1  female  38.0      1      0  71.2833        C  First   \n",
       "2         1       3  female  26.0      0      0   7.9250        S  Third   \n",
       "3         1       1  female  35.0      1      0  53.1000        S  First   \n",
       "4         0       3    male  35.0      0      0   8.0500        S  Third   \n",
       "\n",
       "     who  adult_male deck  embark_town alive  alone  \n",
       "0    man        True  NaN  Southampton    no  False  \n",
       "1  woman       False    C    Cherbourg   yes  False  \n",
       "2  woman       False  NaN  Southampton   yes   True  \n",
       "3  woman       False    C  Southampton   yes  False  \n",
       "4    man        True  NaN  Southampton    no   True  "
      ]
     },
     "execution_count": 24,
     "metadata": {},
     "output_type": "execute_result"
    }
   ],
   "source": [
    "import seaborn as sns\n",
    "\n",
    "titanic = sns.load_dataset('titanic')\n",
    "titanic.head()\n"
   ]
  },
  {
   "cell_type": "code",
   "execution_count": 25,
   "id": "09b6dc3c",
   "metadata": {},
   "outputs": [
    {
     "data": {
      "text/plain": [
       "[np.int64(177), np.int64(2), np.int64(688), np.int64(2)]"
      ]
     },
     "execution_count": 25,
     "metadata": {},
     "output_type": "execute_result"
    }
   ],
   "source": [
    "\n",
    "[titanic[col].isna().sum() for col in [col for col in titanic.columns if titanic[col].isna().any()]]"
   ]
  },
  {
   "cell_type": "code",
   "execution_count": 31,
   "id": "86c419d8",
   "metadata": {},
   "outputs": [
    {
     "data": {
      "text/html": [
       "<div>\n",
       "<style scoped>\n",
       "    .dataframe tbody tr th:only-of-type {\n",
       "        vertical-align: middle;\n",
       "    }\n",
       "\n",
       "    .dataframe tbody tr th {\n",
       "        vertical-align: top;\n",
       "    }\n",
       "\n",
       "    .dataframe thead th {\n",
       "        text-align: right;\n",
       "    }\n",
       "</style>\n",
       "<table border=\"1\" class=\"dataframe\">\n",
       "  <thead>\n",
       "    <tr style=\"text-align: right;\">\n",
       "      <th></th>\n",
       "      <th>count</th>\n",
       "      <th>percentage</th>\n",
       "    </tr>\n",
       "    <tr>\n",
       "      <th>variable</th>\n",
       "      <th></th>\n",
       "      <th></th>\n",
       "    </tr>\n",
       "  </thead>\n",
       "  <tbody>\n",
       "  </tbody>\n",
       "</table>\n",
       "</div>"
      ],
      "text/plain": [
       "Empty DataFrame\n",
       "Columns: [count, percentage]\n",
       "Index: []"
      ]
     },
     "execution_count": 31,
     "metadata": {},
     "output_type": "execute_result"
    }
   ],
   "source": [
    "eda_helper_functions.missing_info(train)\n"
   ]
  },
  {
   "cell_type": "code",
   "execution_count": 32,
   "id": "52903803",
   "metadata": {},
   "outputs": [
    {
     "data": {
      "text/html": [
       "<div>\n",
       "<style scoped>\n",
       "    .dataframe tbody tr th:only-of-type {\n",
       "        vertical-align: middle;\n",
       "    }\n",
       "\n",
       "    .dataframe tbody tr th {\n",
       "        vertical-align: top;\n",
       "    }\n",
       "\n",
       "    .dataframe thead th {\n",
       "        text-align: right;\n",
       "    }\n",
       "</style>\n",
       "<table border=\"1\" class=\"dataframe\">\n",
       "  <thead>\n",
       "    <tr style=\"text-align: right;\">\n",
       "      <th></th>\n",
       "      <th>count</th>\n",
       "      <th>percentage</th>\n",
       "    </tr>\n",
       "    <tr>\n",
       "      <th>variable</th>\n",
       "      <th></th>\n",
       "      <th></th>\n",
       "    </tr>\n",
       "  </thead>\n",
       "  <tbody>\n",
       "    <tr>\n",
       "      <th>deck</th>\n",
       "      <td>688</td>\n",
       "      <td>77.216611</td>\n",
       "    </tr>\n",
       "    <tr>\n",
       "      <th>age</th>\n",
       "      <td>177</td>\n",
       "      <td>19.865320</td>\n",
       "    </tr>\n",
       "    <tr>\n",
       "      <th>embarked</th>\n",
       "      <td>2</td>\n",
       "      <td>0.224467</td>\n",
       "    </tr>\n",
       "    <tr>\n",
       "      <th>embark_town</th>\n",
       "      <td>2</td>\n",
       "      <td>0.224467</td>\n",
       "    </tr>\n",
       "  </tbody>\n",
       "</table>\n",
       "</div>"
      ],
      "text/plain": [
       "             count  percentage\n",
       "variable                      \n",
       "deck           688   77.216611\n",
       "age            177   19.865320\n",
       "embarked         2    0.224467\n",
       "embark_town      2    0.224467"
      ]
     },
     "execution_count": 32,
     "metadata": {},
     "output_type": "execute_result"
    }
   ],
   "source": [
    "eda_helper_functions.missing_info(titanic)"
   ]
  },
  {
   "cell_type": "markdown",
   "id": "fdf451f5",
   "metadata": {},
   "source": [
    "Plot missing info"
   ]
  },
  {
   "cell_type": "code",
   "execution_count": 33,
   "id": "8828d5e3",
   "metadata": {},
   "outputs": [
    {
     "data": {
      "image/png": "[encoded data removed]",
      "text/plain": [
       "<Figure size 1000x400 with 1 Axes>"
      ]
     },
     "metadata": {},
     "output_type": "display_data"
    },
    {
     "data": {
      "image/png": "[encoded data removed]",
      "text/plain": [
       "<Figure size 1000x400 with 1 Axes>"
      ]
     },
     "metadata": {},
     "output_type": "display_data"
    }
   ],
   "source": [
    "eda_helper_functions.plot_missing_info(train)\n",
    "eda_helper_functions.plot_missing_info(titanic)\n"
   ]
  },
  {
   "cell_type": "markdown",
   "id": "832bab59",
   "metadata": {},
   "source": [
    "in our training data there r no missing values"
   ]
  },
  {
   "cell_type": "markdown",
   "id": "c8d80d10",
   "metadata": {},
   "source": [
    "### 5. High level analysis of Outliers"
   ]
  },
  {
   "cell_type": "markdown",
   "id": "a3bc3155",
   "metadata": {},
   "source": [
    "we will use IsolationForest , only does on numeric colms"
   ]
  },
  {
   "cell_type": "code",
   "execution_count": null,
   "id": "24b6c164",
   "metadata": {},
   "outputs": [
    {
     "data": {
      "text/plain": [
       "airline                    object\n",
       "date_of_journey    datetime64[ns]\n",
       "source                     object\n",
       "destination                object\n",
       "dep_time                   object\n",
       "arrival_time               object\n",
       "duration                    int64\n",
       "total_stops                 int64\n",
       "additional_info            object\n",
       "price                       int64\n",
       "dtype: object"
      ]
     },
     "execution_count": 54,
     "metadata": {},
     "output_type": "execute_result"
    }
   ],
   "source": [
    "train.dtypes"
   ]
  },
  {
   "cell_type": "code",
   "execution_count": null,
   "id": "d447b493",
   "metadata": {},
   "outputs": [
    {
     "data": {
      "text/plain": [
       "['duration', 'total_stops', 'price']"
      ]
     },
     "execution_count": 55,
     "metadata": {},
     "output_type": "execute_result"
    }
   ],
   "source": [
    "[col for col in train.columns if pd.api.types.is_numeric_dtype(train[col])]"
   ]
  },
  {
   "cell_type": "code",
   "execution_count": null,
   "id": "38059909",
   "metadata": {},
   "outputs": [],
   "source": [
    "forest = IsolationForest(n_estimators=100, random_state=12)"
   ]
  },
  {
   "cell_type": "code",
   "execution_count": null,
   "id": "6d1af88a",
   "metadata": {},
   "outputs": [
    {
     "data": {
      "text/html": [
       "<div>\n",
       "<style scoped>\n",
       "    .dataframe tbody tr th:only-of-type {\n",
       "        vertical-align: middle;\n",
       "    }\n",
       "\n",
       "    .dataframe tbody tr th {\n",
       "        vertical-align: top;\n",
       "    }\n",
       "\n",
       "    .dataframe thead th {\n",
       "        text-align: right;\n",
       "    }\n",
       "</style>\n",
       "<table border=\"1\" class=\"dataframe\">\n",
       "  <thead>\n",
       "    <tr style=\"text-align: right;\">\n",
       "      <th></th>\n",
       "      <th>airline</th>\n",
       "      <th>date_of_journey</th>\n",
       "      <th>source</th>\n",
       "      <th>destination</th>\n",
       "      <th>dep_time</th>\n",
       "      <th>arrival_time</th>\n",
       "      <th>duration</th>\n",
       "      <th>total_stops</th>\n",
       "      <th>additional_info</th>\n",
       "      <th>price</th>\n",
       "      <th>outlier</th>\n",
       "    </tr>\n",
       "  </thead>\n",
       "  <tbody>\n",
       "    <tr>\n",
       "      <th>0</th>\n",
       "      <td>Air India</td>\n",
       "      <td>2019-04-09</td>\n",
       "      <td>Delhi</td>\n",
       "      <td>Cochin</td>\n",
       "      <td>05:55:00</td>\n",
       "      <td>19:15:00</td>\n",
       "      <td>2240</td>\n",
       "      <td>2</td>\n",
       "      <td>No info</td>\n",
       "      <td>7711</td>\n",
       "      <td>-1</td>\n",
       "    </tr>\n",
       "    <tr>\n",
       "      <th>1</th>\n",
       "      <td>Air India</td>\n",
       "      <td>2019-06-03</td>\n",
       "      <td>Delhi</td>\n",
       "      <td>Cochin</td>\n",
       "      <td>07:10:00</td>\n",
       "      <td>07:40:00</td>\n",
       "      <td>1470</td>\n",
       "      <td>2</td>\n",
       "      <td>No info</td>\n",
       "      <td>12698</td>\n",
       "      <td>-1</td>\n",
       "    </tr>\n",
       "    <tr>\n",
       "      <th>2</th>\n",
       "      <td>Air India</td>\n",
       "      <td>2019-05-15</td>\n",
       "      <td>Kolkata</td>\n",
       "      <td>Banglore</td>\n",
       "      <td>16:45:00</td>\n",
       "      <td>21:05:00</td>\n",
       "      <td>1700</td>\n",
       "      <td>1</td>\n",
       "      <td>No info</td>\n",
       "      <td>7452</td>\n",
       "      <td>-1</td>\n",
       "    </tr>\n",
       "    <tr>\n",
       "      <th>3</th>\n",
       "      <td>Vistara</td>\n",
       "      <td>2019-06-15</td>\n",
       "      <td>Chennai</td>\n",
       "      <td>Kolkata</td>\n",
       "      <td>07:05:00</td>\n",
       "      <td>09:20:00</td>\n",
       "      <td>135</td>\n",
       "      <td>0</td>\n",
       "      <td>No info</td>\n",
       "      <td>3687</td>\n",
       "      <td>-1</td>\n",
       "    </tr>\n",
       "    <tr>\n",
       "      <th>4</th>\n",
       "      <td>Jet Airways</td>\n",
       "      <td>2019-04-09</td>\n",
       "      <td>Delhi</td>\n",
       "      <td>Cochin</td>\n",
       "      <td>23:05:00</td>\n",
       "      <td>19:00:00</td>\n",
       "      <td>1195</td>\n",
       "      <td>2</td>\n",
       "      <td>No info</td>\n",
       "      <td>9483</td>\n",
       "      <td>-1</td>\n",
       "    </tr>\n",
       "    <tr>\n",
       "      <th>...</th>\n",
       "      <td>...</td>\n",
       "      <td>...</td>\n",
       "      <td>...</td>\n",
       "      <td>...</td>\n",
       "      <td>...</td>\n",
       "      <td>...</td>\n",
       "      <td>...</td>\n",
       "      <td>...</td>\n",
       "      <td>...</td>\n",
       "      <td>...</td>\n",
       "      <td>...</td>\n",
       "    </tr>\n",
       "    <tr>\n",
       "      <th>635</th>\n",
       "      <td>Multiple Carriers</td>\n",
       "      <td>2019-03-06</td>\n",
       "      <td>Delhi</td>\n",
       "      <td>Cochin</td>\n",
       "      <td>11:30:00</td>\n",
       "      <td>19:15:00</td>\n",
       "      <td>465</td>\n",
       "      <td>1</td>\n",
       "      <td>No info</td>\n",
       "      <td>15077</td>\n",
       "      <td>1</td>\n",
       "    </tr>\n",
       "    <tr>\n",
       "      <th>636</th>\n",
       "      <td>Indigo</td>\n",
       "      <td>2019-04-21</td>\n",
       "      <td>Delhi</td>\n",
       "      <td>Cochin</td>\n",
       "      <td>02:00:00</td>\n",
       "      <td>07:45:00</td>\n",
       "      <td>345</td>\n",
       "      <td>1</td>\n",
       "      <td>No info</td>\n",
       "      <td>6258</td>\n",
       "      <td>1</td>\n",
       "    </tr>\n",
       "    <tr>\n",
       "      <th>637</th>\n",
       "      <td>Indigo</td>\n",
       "      <td>2019-06-09</td>\n",
       "      <td>Kolkata</td>\n",
       "      <td>Banglore</td>\n",
       "      <td>22:15:00</td>\n",
       "      <td>00:50:00</td>\n",
       "      <td>155</td>\n",
       "      <td>0</td>\n",
       "      <td>No info</td>\n",
       "      <td>5224</td>\n",
       "      <td>1</td>\n",
       "    </tr>\n",
       "    <tr>\n",
       "      <th>638</th>\n",
       "      <td>Indigo</td>\n",
       "      <td>2019-05-18</td>\n",
       "      <td>Delhi</td>\n",
       "      <td>Cochin</td>\n",
       "      <td>14:20:00</td>\n",
       "      <td>22:30:00</td>\n",
       "      <td>490</td>\n",
       "      <td>1</td>\n",
       "      <td>No info</td>\n",
       "      <td>7640</td>\n",
       "      <td>1</td>\n",
       "    </tr>\n",
       "    <tr>\n",
       "      <th>639</th>\n",
       "      <td>Air India</td>\n",
       "      <td>2019-03-24</td>\n",
       "      <td>Kolkata</td>\n",
       "      <td>Banglore</td>\n",
       "      <td>13:55:00</td>\n",
       "      <td>23:15:00</td>\n",
       "      <td>2000</td>\n",
       "      <td>2</td>\n",
       "      <td>No info</td>\n",
       "      <td>15292</td>\n",
       "      <td>-1</td>\n",
       "    </tr>\n",
       "  </tbody>\n",
       "</table>\n",
       "<p>640 rows × 11 columns</p>\n",
       "</div>"
      ],
      "text/plain": [
       "               airline date_of_journey   source destination  dep_time  \\\n",
       "0            Air India      2019-04-09    Delhi      Cochin  05:55:00   \n",
       "1            Air India      2019-06-03    Delhi      Cochin  07:10:00   \n",
       "2            Air India      2019-05-15  Kolkata    Banglore  16:45:00   \n",
       "3              Vistara      2019-06-15  Chennai     Kolkata  07:05:00   \n",
       "4          Jet Airways      2019-04-09    Delhi      Cochin  23:05:00   \n",
       "..                 ...             ...      ...         ...       ...   \n",
       "635  Multiple Carriers      2019-03-06    Delhi      Cochin  11:30:00   \n",
       "636             Indigo      2019-04-21    Delhi      Cochin  02:00:00   \n",
       "637             Indigo      2019-06-09  Kolkata    Banglore  22:15:00   \n",
       "638             Indigo      2019-05-18    Delhi      Cochin  14:20:00   \n",
       "639          Air India      2019-03-24  Kolkata    Banglore  13:55:00   \n",
       "\n",
       "    arrival_time  duration  total_stops additional_info  price  outlier  \n",
       "0       19:15:00      2240            2         No info   7711       -1  \n",
       "1       07:40:00      1470            2         No info  12698       -1  \n",
       "2       21:05:00      1700            1         No info   7452       -1  \n",
       "3       09:20:00       135            0         No info   3687       -1  \n",
       "4       19:00:00      1195            2         No info   9483       -1  \n",
       "..           ...       ...          ...             ...    ...      ...  \n",
       "635     19:15:00       465            1         No info  15077        1  \n",
       "636     07:45:00       345            1         No info   6258        1  \n",
       "637     00:50:00       155            0         No info   5224        1  \n",
       "638     22:30:00       490            1         No info   7640        1  \n",
       "639     23:15:00      2000            2         No info  15292       -1  \n",
       "\n",
       "[640 rows x 11 columns]"
      ]
     },
     "execution_count": 50,
     "metadata": {},
     "output_type": "execute_result"
    }
   ],
   "source": [
    "(   \n",
    "  train\n",
    "  .assign(\n",
    "    outlier = forest.fit_predict(\n",
    "      train\n",
    "      .drop(columns='price')\n",
    "      .select_dtypes(include=\"number\")\n",
    "    )                                       \n",
    "  )\n",
    ")"
   ]
  },
  {
   "cell_type": "code",
   "execution_count": null,
   "id": "61ff68f4",
   "metadata": {},
   "outputs": [
    {
     "data": {
      "text/plain": [
       "outlier\n",
       " 1    389\n",
       "-1    251\n",
       "Name: count, dtype: int64"
      ]
     },
     "execution_count": 52,
     "metadata": {},
     "output_type": "execute_result"
    }
   ],
   "source": [
    "(   \n",
    "  train\n",
    "  .assign(\n",
    "    outlier = forest.fit_predict(\n",
    "      train\n",
    "      .drop(columns='price')\n",
    "      .select_dtypes(include=\"number\")\n",
    "    )                                       \n",
    "  )\n",
    "  .outlier.value_counts()\n",
    ")"
   ]
  },
  {
   "cell_type": "code",
   "execution_count": null,
   "id": "7500b2ae",
   "metadata": {},
   "outputs": [
    {
     "data": {
      "text/html": [
       "<div>\n",
       "<style scoped>\n",
       "    .dataframe tbody tr th:only-of-type {\n",
       "        vertical-align: middle;\n",
       "    }\n",
       "\n",
       "    .dataframe tbody tr th {\n",
       "        vertical-align: top;\n",
       "    }\n",
       "\n",
       "    .dataframe thead th {\n",
       "        text-align: right;\n",
       "    }\n",
       "</style>\n",
       "<table border=\"1\" class=\"dataframe\">\n",
       "  <thead>\n",
       "    <tr style=\"text-align: right;\">\n",
       "      <th></th>\n",
       "      <th>airline</th>\n",
       "      <th>date_of_journey</th>\n",
       "      <th>source</th>\n",
       "      <th>destination</th>\n",
       "      <th>dep_time</th>\n",
       "      <th>arrival_time</th>\n",
       "      <th>duration</th>\n",
       "      <th>total_stops</th>\n",
       "      <th>additional_info</th>\n",
       "      <th>price</th>\n",
       "      <th>outlier</th>\n",
       "    </tr>\n",
       "  </thead>\n",
       "  <tbody>\n",
       "    <tr>\n",
       "      <th>0</th>\n",
       "      <td>Air India</td>\n",
       "      <td>2019-04-09</td>\n",
       "      <td>Delhi</td>\n",
       "      <td>Cochin</td>\n",
       "      <td>05:55:00</td>\n",
       "      <td>19:15:00</td>\n",
       "      <td>2240</td>\n",
       "      <td>2</td>\n",
       "      <td>No info</td>\n",
       "      <td>7711</td>\n",
       "      <td>-1</td>\n",
       "    </tr>\n",
       "    <tr>\n",
       "      <th>1</th>\n",
       "      <td>Air India</td>\n",
       "      <td>2019-06-03</td>\n",
       "      <td>Delhi</td>\n",
       "      <td>Cochin</td>\n",
       "      <td>07:10:00</td>\n",
       "      <td>07:40:00</td>\n",
       "      <td>1470</td>\n",
       "      <td>2</td>\n",
       "      <td>No info</td>\n",
       "      <td>12698</td>\n",
       "      <td>-1</td>\n",
       "    </tr>\n",
       "    <tr>\n",
       "      <th>2</th>\n",
       "      <td>Air India</td>\n",
       "      <td>2019-05-15</td>\n",
       "      <td>Kolkata</td>\n",
       "      <td>Banglore</td>\n",
       "      <td>16:45:00</td>\n",
       "      <td>21:05:00</td>\n",
       "      <td>1700</td>\n",
       "      <td>1</td>\n",
       "      <td>No info</td>\n",
       "      <td>7452</td>\n",
       "      <td>-1</td>\n",
       "    </tr>\n",
       "    <tr>\n",
       "      <th>3</th>\n",
       "      <td>Vistara</td>\n",
       "      <td>2019-06-15</td>\n",
       "      <td>Chennai</td>\n",
       "      <td>Kolkata</td>\n",
       "      <td>07:05:00</td>\n",
       "      <td>09:20:00</td>\n",
       "      <td>135</td>\n",
       "      <td>0</td>\n",
       "      <td>No info</td>\n",
       "      <td>3687</td>\n",
       "      <td>-1</td>\n",
       "    </tr>\n",
       "    <tr>\n",
       "      <th>4</th>\n",
       "      <td>Jet Airways</td>\n",
       "      <td>2019-04-09</td>\n",
       "      <td>Delhi</td>\n",
       "      <td>Cochin</td>\n",
       "      <td>23:05:00</td>\n",
       "      <td>19:00:00</td>\n",
       "      <td>1195</td>\n",
       "      <td>2</td>\n",
       "      <td>No info</td>\n",
       "      <td>9483</td>\n",
       "      <td>-1</td>\n",
       "    </tr>\n",
       "    <tr>\n",
       "      <th>...</th>\n",
       "      <td>...</td>\n",
       "      <td>...</td>\n",
       "      <td>...</td>\n",
       "      <td>...</td>\n",
       "      <td>...</td>\n",
       "      <td>...</td>\n",
       "      <td>...</td>\n",
       "      <td>...</td>\n",
       "      <td>...</td>\n",
       "      <td>...</td>\n",
       "      <td>...</td>\n",
       "    </tr>\n",
       "    <tr>\n",
       "      <th>618</th>\n",
       "      <td>Jet Airways</td>\n",
       "      <td>2019-06-03</td>\n",
       "      <td>Delhi</td>\n",
       "      <td>Cochin</td>\n",
       "      <td>17:30:00</td>\n",
       "      <td>19:00:00</td>\n",
       "      <td>1530</td>\n",
       "      <td>1</td>\n",
       "      <td>No info</td>\n",
       "      <td>14714</td>\n",
       "      <td>-1</td>\n",
       "    </tr>\n",
       "    <tr>\n",
       "      <th>619</th>\n",
       "      <td>Multiple Carriers</td>\n",
       "      <td>2019-03-03</td>\n",
       "      <td>Delhi</td>\n",
       "      <td>Cochin</td>\n",
       "      <td>07:10:00</td>\n",
       "      <td>21:20:00</td>\n",
       "      <td>850</td>\n",
       "      <td>2</td>\n",
       "      <td>In-flight meal not included</td>\n",
       "      <td>8938</td>\n",
       "      <td>-1</td>\n",
       "    </tr>\n",
       "    <tr>\n",
       "      <th>621</th>\n",
       "      <td>Air India</td>\n",
       "      <td>2019-05-21</td>\n",
       "      <td>Kolkata</td>\n",
       "      <td>Banglore</td>\n",
       "      <td>14:30:00</td>\n",
       "      <td>23:15:00</td>\n",
       "      <td>525</td>\n",
       "      <td>2</td>\n",
       "      <td>No info</td>\n",
       "      <td>15107</td>\n",
       "      <td>-1</td>\n",
       "    </tr>\n",
       "    <tr>\n",
       "      <th>631</th>\n",
       "      <td>Air India</td>\n",
       "      <td>2019-05-18</td>\n",
       "      <td>Delhi</td>\n",
       "      <td>Cochin</td>\n",
       "      <td>06:05:00</td>\n",
       "      <td>09:25:00</td>\n",
       "      <td>1640</td>\n",
       "      <td>1</td>\n",
       "      <td>No info</td>\n",
       "      <td>7480</td>\n",
       "      <td>-1</td>\n",
       "    </tr>\n",
       "    <tr>\n",
       "      <th>639</th>\n",
       "      <td>Air India</td>\n",
       "      <td>2019-03-24</td>\n",
       "      <td>Kolkata</td>\n",
       "      <td>Banglore</td>\n",
       "      <td>13:55:00</td>\n",
       "      <td>23:15:00</td>\n",
       "      <td>2000</td>\n",
       "      <td>2</td>\n",
       "      <td>No info</td>\n",
       "      <td>15292</td>\n",
       "      <td>-1</td>\n",
       "    </tr>\n",
       "  </tbody>\n",
       "</table>\n",
       "<p>251 rows × 11 columns</p>\n",
       "</div>"
      ],
      "text/plain": [
       "               airline date_of_journey   source destination  dep_time  \\\n",
       "0            Air India      2019-04-09    Delhi      Cochin  05:55:00   \n",
       "1            Air India      2019-06-03    Delhi      Cochin  07:10:00   \n",
       "2            Air India      2019-05-15  Kolkata    Banglore  16:45:00   \n",
       "3              Vistara      2019-06-15  Chennai     Kolkata  07:05:00   \n",
       "4          Jet Airways      2019-04-09    Delhi      Cochin  23:05:00   \n",
       "..                 ...             ...      ...         ...       ...   \n",
       "618        Jet Airways      2019-06-03    Delhi      Cochin  17:30:00   \n",
       "619  Multiple Carriers      2019-03-03    Delhi      Cochin  07:10:00   \n",
       "621          Air India      2019-05-21  Kolkata    Banglore  14:30:00   \n",
       "631          Air India      2019-05-18    Delhi      Cochin  06:05:00   \n",
       "639          Air India      2019-03-24  Kolkata    Banglore  13:55:00   \n",
       "\n",
       "    arrival_time  duration  total_stops              additional_info  price  \\\n",
       "0       19:15:00      2240            2                      No info   7711   \n",
       "1       07:40:00      1470            2                      No info  12698   \n",
       "2       21:05:00      1700            1                      No info   7452   \n",
       "3       09:20:00       135            0                      No info   3687   \n",
       "4       19:00:00      1195            2                      No info   9483   \n",
       "..           ...       ...          ...                          ...    ...   \n",
       "618     19:00:00      1530            1                      No info  14714   \n",
       "619     21:20:00       850            2  In-flight meal not included   8938   \n",
       "621     23:15:00       525            2                      No info  15107   \n",
       "631     09:25:00      1640            1                      No info   7480   \n",
       "639     23:15:00      2000            2                      No info  15292   \n",
       "\n",
       "     outlier  \n",
       "0         -1  \n",
       "1         -1  \n",
       "2         -1  \n",
       "3         -1  \n",
       "4         -1  \n",
       "..       ...  \n",
       "618       -1  \n",
       "619       -1  \n",
       "621       -1  \n",
       "631       -1  \n",
       "639       -1  \n",
       "\n",
       "[251 rows x 11 columns]"
      ]
     },
     "execution_count": 53,
     "metadata": {},
     "output_type": "execute_result"
    }
   ],
   "source": [
    "(   \n",
    "  train\n",
    "  .assign(\n",
    "    outlier = forest.fit_predict(\n",
    "      train\n",
    "      .drop(columns='price')\n",
    "      .select_dtypes(include=\"number\")\n",
    "    )                                       \n",
    "  )\n",
    "  .query(\"outlier==-1\")\n",
    ")  # we have 3 numeric colms : duration ,  total_stosp and price "
   ]
  },
  {
   "cell_type": "code",
   "execution_count": null,
   "id": "a445ec7d",
   "metadata": {},
   "outputs": [
    {
     "data": {
      "text/plain": [
       "count     251.000000\n",
       "mean      824.661355\n",
       "std       656.135036\n",
       "min        80.000000\n",
       "25%       150.000000\n",
       "50%       865.000000\n",
       "75%      1422.500000\n",
       "max      2245.000000\n",
       "Name: duration, dtype: float64"
      ]
     },
     "execution_count": 58,
     "metadata": {},
     "output_type": "execute_result"
    }
   ],
   "source": [
    "#for detailed analysis, come back to this\n",
    "(   \n",
    "  train\n",
    "  .assign(\n",
    "    outlier = forest.fit_predict(\n",
    "      train\n",
    "      .drop(columns='price')\n",
    "      .select_dtypes(include=\"number\")\n",
    "    )                                       \n",
    "  )\n",
    "  .query(\"outlier==-1\")\n",
    "  .duration\n",
    "  .describe()\n",
    ")  # we have 3 numeric colms : duration ,  total_stops and price "
   ]
  },
  {
   "cell_type": "markdown",
   "id": "3271c515",
   "metadata": {},
   "source": [
    "there are 250 rows which r outliers, need to insepect more later "
   ]
  },
  {
   "cell_type": "markdown",
   "id": "2724226e",
   "metadata": {},
   "source": [
    "### 6. Pair Plots"
   ]
  },
  {
   "cell_type": "code",
   "execution_count": null,
   "id": "b025502a",
   "metadata": {},
   "outputs": [
    {
     "data": {
      "text/html": [
       "<h2>Pair Plots</h2>"
      ],
      "text/plain": [
       "<IPython.core.display.HTML object>"
      ]
     },
     "metadata": {},
     "output_type": "display_data"
    },
    {
     "data": {
      "image/png": "[encoded data removed]",
      "text/plain": [
       "<Figure size 1350x900 with 6 Axes>"
      ]
     },
     "metadata": {},
     "output_type": "display_data"
    }
   ],
   "source": [
    "eda_helper_functions.pair_plots(train)"
   ]
  },
  {
   "cell_type": "markdown",
   "id": "efbb2265",
   "metadata": {},
   "source": [
    "### 7. Correlation Analysis"
   ]
  },
  {
   "cell_type": "code",
   "execution_count": null,
   "id": "9beb3343",
   "metadata": {},
   "outputs": [
    {
     "data": {
      "image/png": "[encoded data removed]",
      "text/plain": [
       "<Figure size 1200x600 with 2 Axes>"
      ]
     },
     "metadata": {},
     "output_type": "display_data"
    }
   ],
   "source": [
    "eda_helper_functions.correlation_heatmap(train) # only for numerical features"
   ]
  },
  {
   "cell_type": "code",
   "execution_count": null,
   "id": "643c9806",
   "metadata": {},
   "outputs": [],
   "source": [
    "# eda_helper_functions.cramersV_heatmap(train)"
   ]
  },
  {
   "cell_type": "code",
   "execution_count": 38,
   "id": "7e83c42c",
   "metadata": {},
   "outputs": [],
   "source": [
    "import pandas as pd\n",
    "import numpy as np\n",
    "import seaborn as sns\n",
    "import matplotlib.pyplot as plt\n",
    "from scipy import stats  # Required for chi2_contingency\n",
    "\n",
    "def cramers_v(data, var1, var2):\n",
    "    ct = pd.crosstab(data[var1], data[var2])\n",
    "    r, c = ct.shape\n",
    "    n = ct.values.sum()\n",
    "    chi2 = stats.chi2_contingency(ct)[0]\n",
    "    phi2 = chi2 / n\n",
    "\n",
    "    # Bias correction\n",
    "    phi2_corr = max(0, phi2 - ((r - 1) * (c - 1)) / (n - 1))\n",
    "    r_corr = r - ((r - 1) ** 2) / (n - 1)\n",
    "    c_corr = c - ((c - 1) ** 2) / (n - 1)\n",
    "\n",
    "    denom = min(c_corr - 1, r_corr - 1)\n",
    "    if denom <= 0:\n",
    "        return np.nan\n",
    "\n",
    "    v = np.sqrt(phi2_corr / denom)\n",
    "    return min(v, 1.0)  # Clamp to 1.0 max\n",
    "\n",
    "def plot_cramers_v_heatmap(df):\n",
    "    cat_cols = df.select_dtypes(include='object').columns.tolist()\n",
    "\n",
    "    if len(cat_cols) < 2:\n",
    "        print(\"❌ Not enough categorical features for Cramér's V heatmap.\")\n",
    "        return\n",
    "\n",
    "    matrix = pd.DataFrame(index=cat_cols, columns=cat_cols, dtype=float)\n",
    "\n",
    "    for i, col1 in enumerate(cat_cols):\n",
    "        for j, col2 in enumerate(cat_cols):\n",
    "            if i >= j:  # Lower triangle and diagonal\n",
    "                matrix.loc[col1, col2] = cramers_v(df, col1, col2)\n",
    "            else:\n",
    "                matrix.loc[col1, col2] = np.nan\n",
    "\n",
    "    plt.figure(figsize=(10, 8))\n",
    "    sns.heatmap(\n",
    "        matrix,\n",
    "        annot=True,\n",
    "        cmap='YlGnBu',\n",
    "        fmt='.2f',\n",
    "        mask=np.triu(np.ones(matrix.shape, dtype=bool)),\n",
    "        square=True,\n",
    "        cbar_kws={\"shrink\": 0.75}\n",
    "    )\n",
    "    plt.title(\"Cramér’s V Heatmap (Categorical Features)\")\n",
    "    plt.xticks(rotation=45, ha='right')\n",
    "    plt.tight_layout()\n",
    "    plt.show()\n"
   ]
  },
  {
   "cell_type": "code",
   "execution_count": 39,
   "id": "268ce3e4",
   "metadata": {},
   "outputs": [
    {
     "data": {
      "image/png": "[encoded data removed]",
      "text/plain": [
       "<Figure size 1000x800 with 2 Axes>"
      ]
     },
     "metadata": {},
     "output_type": "display_data"
    }
   ],
   "source": [
    "plot_cramers_v_heatmap(train)\n"
   ]
  }
 ],
 "metadata": {
  "kernelspec": {
   "display_name": "Python 3",
   "language": "python",
   "name": "python3"
  },
  "language_info": {
   "codemirror_mode": {
    "name": "ipython",
    "version": 3
   },
   "file_extension": ".py",
   "mimetype": "text/x-python",
   "name": "python",
   "nbconvert_exporter": "python",
   "pygments_lexer": "ipython3",
   "version": "3.13.0"
  }
 },
 "nbformat": 4,
 "nbformat_minor": 5
}
